{
 "cells": [
  {
   "cell_type": "markdown",
   "metadata": {},
   "source": [
    "---\n",
    "layout: post\n",
    "category: problems\n",
    "full_width: false\n",
    "title: \"Problem: Even Before Odd\"\n",
    "---\n",
    "\n",
    "Suppose you roll a fair 6-sided die until you've seen all 6 faces. What is the probability you won't see an odd numbered face until you have seen all even numbered faces?\n",
    "\n",
    "My attempt: \n",
    "\n",
    "A fair-sided dice implies the $$P(X = \\text{any face}) = 1/6$$\n",
    "\n",
    "We need to see all even numbered faces so we need to see 2, 4, and 6 before we see 1, 3, or 5. Since we only care about the first time we see a number, we don't care about repeats so if we roll 2 on the first roll and then 2 again on the second roll we don't consider that. So what is the probability of seeing 2,4,6 in any combination? That is $$\\frac{1}{6}^3 * 6 = 1/36.$$\n",
    "\n",
    "After my simulations, I'm getting about 0.05 which is 1/20 so my math is definitely off.\n",
    "\n",
    "The solution says to focus on the orderings. We know that we can uniquely order the faces of a die using 6!. Let's use this as the denominator and for the numerator, we have 3! unique orderings of even numbers and the same for odd numbers. So this turns out to be $$\\frac{3!3!}{6!} = \\frac{1}{20}$$.  \n",
    "\n",
    "Takeaway:\n",
    "\n",
    "Focus less on the probability and more on the total orderings and counts. "
   ]
  },
  {
   "cell_type": "code",
   "execution_count": 62,
   "metadata": {},
   "outputs": [
    {
     "name": "stdout",
     "output_type": "stream",
     "text": [
      "0.0514\n"
     ]
    }
   ],
   "source": [
    "import random\n",
    "random_int = random.randint(1, 6)  # Generates a random integer between 1 and 6 (inclusive)\n",
    "# print(random_int)\n",
    "num_simulations = 10000\n",
    "num_event = 0\n",
    "for i in range(1, num_simulations+1):\n",
    "    even_before_odd = False\n",
    "    keepGoing = True\n",
    "    even_dict = {2: False, 4: False, 6: False}\n",
    "\n",
    "    while keepGoing:\n",
    "        # print(\"beginning of loop\")\n",
    "        random_int = random.randint(1, 6)\n",
    "        # print(random_int)\n",
    "        if random_int in (2, 4, 6):\n",
    "            even_dict[random_int] = True\n",
    "            # print(even_dict)\n",
    "        elif random_int in (1, 3, 5) and not all(even_dict.values()):\n",
    "            # print(random_int)\n",
    "            keepGoing = False\n",
    "        else: \n",
    "            even_before_odd = True\n",
    "            keepGoing = False\n",
    "    if even_before_odd:\n",
    "        num_event += 1\n",
    "\n",
    "print(num_event/num_simulations)\n"
   ]
  }
 ],
 "metadata": {
  "kernelspec": {
   "display_name": "Python 3",
   "language": "python",
   "name": "python3"
  },
  "language_info": {
   "codemirror_mode": {
    "name": "ipython",
    "version": 3
   },
   "file_extension": ".py",
   "mimetype": "text/x-python",
   "name": "python",
   "nbconvert_exporter": "python",
   "pygments_lexer": "ipython3",
   "version": "3.13.5"
  }
 },
 "nbformat": 4,
 "nbformat_minor": 2
}
